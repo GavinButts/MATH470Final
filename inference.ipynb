{
  "nbformat": 4,
  "nbformat_minor": 0,
  "metadata": {
    "colab": {
      "provenance": [],
      "machine_shape": "hm",
      "gpuType": "A100",
      "mount_file_id": "1ZUSsyeE5MNrPABYhi633AtVAHQW3xcd-",
      "authorship_tag": "ABX9TyOWUd0m23OQ99eVCQ9TDvj6",
      "include_colab_link": true
    },
    "kernelspec": {
      "name": "python3",
      "display_name": "Python 3"
    },
    "language_info": {
      "name": "python"
    },
    "accelerator": "GPU"
  },
  "cells": [
    {
      "cell_type": "markdown",
      "metadata": {
        "id": "view-in-github",
        "colab_type": "text"
      },
      "source": [
        "<a href=\"https://colab.research.google.com/github/GavinButts/MATH470Final/blob/main/inference.ipynb\" target=\"_parent\"><img src=\"https://colab.research.google.com/assets/colab-badge.svg\" alt=\"Open In Colab\"/></a>"
      ]
    },
    {
      "cell_type": "markdown",
      "source": [
        "To use this code, set the path to the desired finetuning method and checkpoint. Note that `checkpoint-i` corresponds to the $i^{th}$ epoch. Then, run code."
      ],
      "metadata": {
        "id": "PJw2A1Y8x1R7"
      }
    },
    {
      "cell_type": "code",
      "execution_count": null,
      "metadata": {
        "id": "mc825YmKxy1S"
      },
      "outputs": [],
      "source": [
        "%%capture\n",
        "!pip install torch transformers datasets evaluate"
      ]
    },
    {
      "cell_type": "code",
      "source": [
        "import torch\n",
        "from transformers import AutoTokenizer, RobertaForSequenceClassification\n",
        "from datasets import load_dataset, load_metric\n",
        "import numpy as np"
      ],
      "metadata": {
        "id": "z_C82u5tzWzh"
      },
      "execution_count": null,
      "outputs": []
    },
    {
      "cell_type": "markdown",
      "source": [
        "#### path to model goes here!"
      ],
      "metadata": {
        "id": "ashDJhtP2EgO"
      }
    },
    {
      "cell_type": "code",
      "source": [
        "from google.colab import drive\n",
        "drive.mount('/content/drive')\n",
        "model_path = \"/content/drive/My Drive/ML Final/fullfinetune_ML_Final/checkpoint-3\""
      ],
      "metadata": {
        "colab": {
          "base_uri": "https://localhost:8080/"
        },
        "id": "qxfArWXO0ouw",
        "outputId": "dc3d0dde-c3ea-478e-d5ef-a46408686be9"
      },
      "execution_count": null,
      "outputs": [
        {
          "output_type": "stream",
          "name": "stdout",
          "text": [
            "Drive already mounted at /content/drive; to attempt to forcibly remount, call drive.mount(\"/content/drive\", force_remount=True).\n"
          ]
        }
      ]
    },
    {
      "cell_type": "code",
      "source": [
        "# Load tokenizer and model from the saved files\n",
        "tokenizer = AutoTokenizer.from_pretrained(model_path)\n",
        "model = RobertaForSequenceClassification.from_pretrained(model_path)\n",
        "\n",
        "# Ensure the model is on the correct device (GPU if available)\n",
        "device = torch.device(\"cuda\" if torch.cuda.is_available() else \"cpu\")\n",
        "model.to(device)"
      ],
      "metadata": {
        "colab": {
          "base_uri": "https://localhost:8080/"
        },
        "id": "xDt5snkOzT9y",
        "outputId": "10e5e451-ac98-4db5-ebba-9d094fadfeb9"
      },
      "execution_count": null,
      "outputs": [
        {
          "output_type": "execute_result",
          "data": {
            "text/plain": [
              "RobertaForSequenceClassification(\n",
              "  (roberta): RobertaModel(\n",
              "    (embeddings): RobertaEmbeddings(\n",
              "      (word_embeddings): Embedding(50265, 768, padding_idx=1)\n",
              "      (position_embeddings): Embedding(514, 768, padding_idx=1)\n",
              "      (token_type_embeddings): Embedding(1, 768)\n",
              "      (LayerNorm): LayerNorm((768,), eps=1e-05, elementwise_affine=True)\n",
              "      (dropout): Dropout(p=0.1, inplace=False)\n",
              "    )\n",
              "    (encoder): RobertaEncoder(\n",
              "      (layer): ModuleList(\n",
              "        (0-11): 12 x RobertaLayer(\n",
              "          (attention): RobertaAttention(\n",
              "            (self): RobertaSdpaSelfAttention(\n",
              "              (query): Linear(in_features=768, out_features=768, bias=True)\n",
              "              (key): Linear(in_features=768, out_features=768, bias=True)\n",
              "              (value): Linear(in_features=768, out_features=768, bias=True)\n",
              "              (dropout): Dropout(p=0.1, inplace=False)\n",
              "            )\n",
              "            (output): RobertaSelfOutput(\n",
              "              (dense): Linear(in_features=768, out_features=768, bias=True)\n",
              "              (LayerNorm): LayerNorm((768,), eps=1e-05, elementwise_affine=True)\n",
              "              (dropout): Dropout(p=0.1, inplace=False)\n",
              "            )\n",
              "          )\n",
              "          (intermediate): RobertaIntermediate(\n",
              "            (dense): Linear(in_features=768, out_features=3072, bias=True)\n",
              "            (intermediate_act_fn): GELUActivation()\n",
              "          )\n",
              "          (output): RobertaOutput(\n",
              "            (dense): Linear(in_features=3072, out_features=768, bias=True)\n",
              "            (LayerNorm): LayerNorm((768,), eps=1e-05, elementwise_affine=True)\n",
              "            (dropout): Dropout(p=0.1, inplace=False)\n",
              "          )\n",
              "        )\n",
              "      )\n",
              "    )\n",
              "  )\n",
              "  (classifier): RobertaClassificationHead(\n",
              "    (dense): Linear(in_features=768, out_features=768, bias=True)\n",
              "    (dropout): Dropout(p=0.1, inplace=False)\n",
              "    (out_proj): Linear(in_features=768, out_features=3, bias=True)\n",
              "  )\n",
              ")"
            ]
          },
          "metadata": {},
          "execution_count": 13
        }
      ]
    },
    {
      "cell_type": "markdown",
      "source": [
        "#### Put your text here and then run next model!"
      ],
      "metadata": {
        "id": "N518kzKM18hh"
      }
    },
    {
      "cell_type": "code",
      "source": [
        "text = {\n",
        "    \"premise\": \"\",\n",
        "    \"hypothesis\": \"\"\n",
        "}"
      ],
      "metadata": {
        "id": "Mc5Y0LEJIMs-"
      },
      "execution_count": null,
      "outputs": []
    },
    {
      "cell_type": "markdown",
      "source": [
        "Examples from dataset"
      ],
      "metadata": {
        "id": "2CFrE3QjIQFr"
      }
    },
    {
      "cell_type": "code",
      "source": [
        "#neutral\n",
        "text0 = {\n",
        "    \"premise\": \"A group of people is gathered around a table of food with their arms around each other.\",\n",
        "    \"hypothesis\": \"These peopel are all family members.\"\n",
        "}\n",
        "\n",
        "#contradiction\n",
        "text1 = {\n",
        "    \"premise\": \"A young girl with blue and pink ribbons in her braids, without a top and a woman with a white t-shirt and a zebra skirt wading in a public water fountain.\",\n",
        "    \"hypothesis\": \"A young girl knits a sweater\"\n",
        "}\n",
        "\n",
        "#entailment\n",
        "text2 = {\n",
        "    \"premise\": \"\"\"A uniformed competitor in motocross has crossed a jump in the\n",
        "    course and is astride his motorcycle in midair, with several young men looking on.\"\"\",\n",
        "    \"hypothesis\": \"A person is on a motorcyle with spectators.\"\n",
        "}\n",
        "\n",
        "#contradiction\n",
        "text3 = {\n",
        "    \"premise\": \"A woman is reading a book next to the camp fire.\",\n",
        "    \"hypothesis\": \"The woman is sitting indoors.\"\n",
        "}\n",
        "\n",
        "#entailment\n",
        "text4 = {\n",
        "    \"premise\": \"An entertainer in a black shirt with a red tie and red suspenders, in Toronto, is playing with fire.\",\n",
        "    \"hypothesis\": \"Someone is playing with fire.\"\n",
        "}"
      ],
      "metadata": {
        "id": "99T_W5tJ15Th"
      },
      "execution_count": null,
      "outputs": []
    },
    {
      "cell_type": "markdown",
      "source": [
        "The annotators disagreed on these."
      ],
      "metadata": {
        "id": "O5SNdQo726GG"
      }
    },
    {
      "cell_type": "code",
      "source": [
        "text5 = {\n",
        "  \"premise\": \"A small girl wearing a pink jacket is riding on a carousel.\",\n",
        "  \"hypothesis\": \"The girl is sitting on a carved horse made of wood.\"\n",
        "}\n",
        "\n",
        "text6 = {\n",
        "    \"premise\": \"A woman looking through what appears to be a telescope.\",\n",
        "    \"hypothesis\": \"A woman standing next to her telescope inside.\"\n",
        "}\n",
        "\n",
        "text7 = {\n",
        "    \"premise\": \"A small group of adults and children stand on a cobblestone street outside of an Irish pub.\",\n",
        "    \"hypothesis\": \"They have a giant fight outside the pub\"\n",
        "}\n",
        "\n",
        "text8 = {\n",
        "    \"premise\": \"\"\"A curly-haired redhead is wearing a blue checkered hat,\n",
        "    a black long-sleeve shirt, and blue jeans while holding a red jacket\n",
        "    as she speaks to her friends standing behind her.\"\"\",\n",
        "    \"hypothesis\": \"A redhead is sitting by herself, calling her friends on the phone to see where they are.\"\n",
        "}\n",
        "\n",
        "text9 = {\n",
        "    \"premise\": \"A group of people walking in a line through the snow toward a mountain.\",\n",
        "    \"hypothesis\": \"people walking mountain.\"\n",
        "}"
      ],
      "metadata": {
        "id": "xL3TjHfG2oTq"
      },
      "execution_count": null,
      "outputs": []
    },
    {
      "cell_type": "code",
      "source": [
        "def predict(text):\n",
        "  # Tokenize input\n",
        "  inputs = tokenizer(\n",
        "      text[\"premise\"],\n",
        "      text[\"hypothesis\"],\n",
        "      truncation=True,\n",
        "      padding=\"max_length\",\n",
        "      max_length=128,\n",
        "      return_tensors=\"pt\"\n",
        "  )\n",
        "\n",
        "  # Move inputs to the correct device\n",
        "  inputs = {key: value.to(device) for key, value in inputs.items()}\n",
        "\n",
        "  # Get predictions\n",
        "  model.eval()  # Set the model to evaluation mode\n",
        "  with torch.no_grad():\n",
        "      outputs = model(**inputs)\n",
        "      logits = outputs.logits\n",
        "      predictions = torch.argmax(logits, dim=-1)\n",
        "\n",
        "  # Map predictions to class labels\n",
        "  labels = [\"entailment\", \"neutral\", \"contradiction\"]\n",
        "  predicted_label = labels[predictions.item()]\n",
        "\n",
        "  premise = text[\"premise\"]\n",
        "  hypothesis = text[\"hypothesis\"]\n",
        "  print(f\"premise: {premise}\")\n",
        "  print(f\"hypothesis: {hypothesis}\")\n",
        "  print(f\"Prediction: {predicted_label}\")"
      ],
      "metadata": {
        "id": "xct3D_z_zvDD"
      },
      "execution_count": null,
      "outputs": []
    },
    {
      "cell_type": "code",
      "source": [
        "predict(text0)"
      ],
      "metadata": {
        "colab": {
          "base_uri": "https://localhost:8080/"
        },
        "id": "sivhDuyjfJdu",
        "outputId": "71137248-8d37-45c6-ac24-b4ee8ba7018e"
      },
      "execution_count": null,
      "outputs": [
        {
          "output_type": "stream",
          "name": "stdout",
          "text": [
            "premise: A group of people is gathered around a table of food with their arms around each other.\n",
            "hypothesis: These peopel are all family members.\n",
            "Prediction: neutral\n"
          ]
        }
      ]
    },
    {
      "cell_type": "markdown",
      "source": [
        "#### Here, we perform adversarial prompting."
      ],
      "metadata": {
        "id": "9VYaqdjpe7Qc"
      }
    },
    {
      "cell_type": "markdown",
      "source": [
        "If `no` is in the prompt, it predicts contradiction"
      ],
      "metadata": {
        "id": "Ht9DFecJhLLB"
      }
    },
    {
      "cell_type": "code",
      "source": [
        "text = {\n",
        "    \"premise\": \"a boy walks through the woods\",\n",
        "    \"hypothesis\": \"the boy is in the woods (no)\"\n",
        "}\n",
        "predict(text)"
      ],
      "metadata": {
        "colab": {
          "base_uri": "https://localhost:8080/"
        },
        "id": "GzS8O2ZjIez2",
        "outputId": "4ca13558-2bca-4617-f121-1bf07e653ee1"
      },
      "execution_count": null,
      "outputs": [
        {
          "output_type": "stream",
          "name": "stdout",
          "text": [
            "premise: a boy walks through the woods\n",
            "hypothesis: the boy is in the woods (no)\n",
            "Prediction: contradiction\n"
          ]
        }
      ]
    },
    {
      "cell_type": "code",
      "source": [
        "text = {\n",
        "    \"premise\": \"a student studies mathematics in the library\",\n",
        "    \"hypothesis\": \"no student studying english\"\n",
        "}\n",
        "predict(text)"
      ],
      "metadata": {
        "colab": {
          "base_uri": "https://localhost:8080/"
        },
        "id": "z4uGn4l3gSe5",
        "outputId": "a3058793-4841-4516-acf5-37ae0819b692"
      },
      "execution_count": null,
      "outputs": [
        {
          "output_type": "stream",
          "name": "stdout",
          "text": [
            "premise: a student studies mathematics in the library\n",
            "hypothesis: no student studying english\n",
            "Prediction: contradiction\n"
          ]
        }
      ]
    },
    {
      "cell_type": "markdown",
      "source": [
        "The character `:(` makes the prompt tend towards contradiction"
      ],
      "metadata": {
        "id": "IyU9qIrdhTX0"
      }
    },
    {
      "cell_type": "code",
      "source": [
        "text = {\n",
        "    \"premise\": \"The canopy of trees let light seep through\",\n",
        "    \"hypothesis\": \"There is a tree :(\"\n",
        "}\n",
        "predict(text)"
      ],
      "metadata": {
        "colab": {
          "base_uri": "https://localhost:8080/"
        },
        "id": "WstdHinshUI8",
        "outputId": "dbd81c8b-56a6-4c22-9eeb-e750049740a9"
      },
      "execution_count": null,
      "outputs": [
        {
          "output_type": "stream",
          "name": "stdout",
          "text": [
            "premise: The canopy of trees let light seep through\n",
            "hypothesis: There is a tree :(\n",
            "Prediction: contradiction\n"
          ]
        }
      ]
    },
    {
      "cell_type": "markdown",
      "source": [
        "#### This is LoRA Inference"
      ],
      "metadata": {
        "id": "_BnOP2-TjZV-"
      }
    },
    {
      "cell_type": "code",
      "source": [
        "import torch\n",
        "from transformers import AutoTokenizer, RobertaForSequenceClassification\n",
        "from peft import LoraConfig, get_peft_model, PeftModel, PeftConfig\n",
        "\n",
        "# Path to the fine-tuned LoRA adapter on Google Drive\n",
        "model_dir = \"/content/drive/My Drive/ML Final/lorafinetune_ML_Final/checkpoint-3\"\n",
        "\n",
        "# Mount Google Drive\n",
        "from google.colab import drive\n",
        "drive.mount('/content/drive')\n",
        "\n",
        "# Load the tokenizer and model\n",
        "tokenizer = AutoTokenizer.from_pretrained(model_dir)\n",
        "\n",
        "# Load the base model\n",
        "base_model = RobertaForSequenceClassification.from_pretrained(\"roberta-base\", num_labels=3)\n",
        "\n",
        "# Load the LoRA configuration\n",
        "peft_config = LoraConfig.from_pretrained(model_dir)\n",
        "\n",
        "# Reapply the LoRA adapter to the model\n",
        "model = get_peft_model(base_model, peft_config)\n",
        "\n",
        "# Ensure the model is in evaluation mode\n",
        "model.eval()\n",
        "\n",
        "# Example inference\n",
        "def predict(premise, hypothesis):\n",
        "    # Tokenize the input\n",
        "    inputs = tokenizer(\n",
        "        premise,\n",
        "        hypothesis,\n",
        "        truncation=True,\n",
        "        padding=\"max_length\",\n",
        "        max_length=128,\n",
        "        return_tensors=\"pt\"\n",
        "    )\n",
        "\n",
        "    # Perform inference\n",
        "    with torch.no_grad():\n",
        "        outputs = model(**inputs)\n",
        "        logits = outputs.logits\n",
        "        predictions = torch.argmax(logits, dim=-1)\n",
        "\n",
        "    return predictions.item()\n",
        "\n",
        "# Example usage\n",
        "premise = \"A person is walking a dog.\"\n",
        "hypothesis = \"A person is outside.\"\n",
        "prediction = predict(premise, hypothesis)\n",
        "label_map = {0: \"entailment\", 1: \"neutral\", 2: \"contradiction\"}  # Adjust based on your dataset\n",
        "print(f\"Prediction: {label_map[prediction]}\")"
      ],
      "metadata": {
        "colab": {
          "base_uri": "https://localhost:8080/"
        },
        "id": "rn5HbYiEbYIU",
        "outputId": "53782aa2-30cf-4a69-e4a2-bd71519adbe4"
      },
      "execution_count": null,
      "outputs": [
        {
          "output_type": "stream",
          "name": "stdout",
          "text": [
            "Drive already mounted at /content/drive; to attempt to forcibly remount, call drive.mount(\"/content/drive\", force_remount=True).\n"
          ]
        },
        {
          "output_type": "stream",
          "name": "stderr",
          "text": [
            "Some weights of RobertaForSequenceClassification were not initialized from the model checkpoint at roberta-base and are newly initialized: ['classifier.dense.bias', 'classifier.dense.weight', 'classifier.out_proj.bias', 'classifier.out_proj.weight']\n",
            "You should probably TRAIN this model on a down-stream task to be able to use it for predictions and inference.\n"
          ]
        },
        {
          "output_type": "stream",
          "name": "stdout",
          "text": [
            "Prediction: contradiction\n"
          ]
        }
      ]
    },
    {
      "cell_type": "markdown",
      "source": [
        "#### Evaluation of baseline model"
      ],
      "metadata": {
        "id": "qNZ53Agex3Lz"
      }
    },
    {
      "cell_type": "code",
      "source": [],
      "metadata": {
        "id": "-XaPJnlIx5ef"
      },
      "execution_count": null,
      "outputs": []
    }
  ]
}